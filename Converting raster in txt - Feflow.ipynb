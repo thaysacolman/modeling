{
 "cells": [
  {
   "cell_type": "code",
   "execution_count": 2,
   "id": "1699da5a-2984-435c-a8ae-08dcd5d80c89",
   "metadata": {},
   "outputs": [],
   "source": [
    "import rasterio\n",
    "import numpy as np\n",
    "import pandas as pd\n",
    "import geopandas as gpd"
   ]
  },
  {
   "cell_type": "code",
   "execution_count": 3,
   "id": "0688ffe2-b8d4-4182-8b96-08efc3b1b8db",
   "metadata": {},
   "outputs": [
    {
     "name": "stdout",
     "output_type": "stream",
     "text": [
      "X: 501059.0019, Y: 5449033.8958, Elev: -3.4028234663852886e+38\n",
      "X: 501060.0019019992, Y: 5449033.8958, Elev: -3.4028234663852886e+38\n",
      "X: 501061.0019039983, Y: 5449033.8958, Elev: -3.4028234663852886e+38\n",
      "X: 501062.0019059975, Y: 5449033.8958, Elev: -3.4028234663852886e+38\n",
      "X: 501063.0019079967, Y: 5449033.8958, Elev: -3.4028234663852886e+38\n"
     ]
    }
   ],
   "source": [
    "# Load the TIFF file\n",
    "tiff_path = \"D:\\\\MINE 590 - Nadja\\\\Project\\\\raster\\\\topo.tif\"\n",
    "with rasterio.open(tiff_path) as src:\n",
    "    elevation = src.read(1)  # Read the first band (elevation data)\n",
    "    transform = src.transform  # Get affine transformation to convert pixels to coordinates\n",
    "\n",
    "# Get the number of rows and columns\n",
    "rows, cols = elevation.shape\n",
    "\n",
    "# Create empty lists to store data\n",
    "x_coords, y_coords, elev_values = [], [], []\n",
    "\n",
    "# Loop through each pixel\n",
    "for row in range(rows):\n",
    "    for col in range(cols):\n",
    "        x, y = transform * (col, row)  # Convert pixel indices to coordinates\n",
    "        x_coords.append(x)\n",
    "        y_coords.append(y)\n",
    "        elev_values.append(elevation[row, col])\n",
    "\n",
    "# Print a sample (first 5 points)\n",
    "for i in range(5):\n",
    "    print(f\"X: {x_coords[i]}, Y: {y_coords[i]}, Elev: {elev_values[i]}\")"
   ]
  },
  {
   "cell_type": "code",
   "execution_count": 25,
   "id": "ed629523-78fe-4a42-92b3-6d43c714b4ec",
   "metadata": {},
   "outputs": [
    {
     "name": "stdout",
     "output_type": "stream",
     "text": [
      "count    5.829086e+06\n",
      "mean     3.699687e+00\n",
      "std      1.320271e+00\n",
      "min      0.000000e+00\n",
      "25%      3.429942e+00\n",
      "50%      3.889917e+00\n",
      "75%      4.240000e+00\n",
      "max      1.354873e+01\n",
      "Name: Elev, dtype: float64\n",
      "                   X             Y  Elev  Elevation  Slice\n",
      "9801   505958.011694  5.449033e+06   1.0      101.0      1\n",
      "9802   505959.011696  5.449033e+06   1.0      101.0      1\n",
      "14701  505956.011690  5.449032e+06   1.0      101.0      1\n",
      "14702  505957.011692  5.449032e+06   1.0      101.0      1\n",
      "14703  505958.011694  5.449032e+06   1.0      101.0      1\n"
     ]
    }
   ],
   "source": [
    "# Create DataFrame\n",
    "df = pd.DataFrame({\"X\": x_coords, \"Y\": y_coords, \"Elev\": elev_values})\n",
    "\n",
    "# Filter: Keep only values between 0 and 120\n",
    "df = df[(df[\"Elev\"] >= 0) & (df[\"Elev\"] <= 120)].copy()\n",
    "\n",
    "# Check if filtering worked\n",
    "print(df[\"Elev\"].describe())  # Summary statistics to verify min/max values\n",
    "\n",
    "# Now apply the absolute value transformation\n",
    "df[\"Elevation\"] = df[\"Elev\"].abs() + 100\n",
    "df[\"Slice\"] = 1"
   ]
  },
  {
   "cell_type": "code",
   "execution_count": 28,
   "id": "ff635225-68c4-4636-99a0-7e5a36d1c03e",
   "metadata": {},
   "outputs": [
    {
     "name": "stdout",
     "output_type": "stream",
     "text": [
      "                   X             Y  Elev  Elevation  Slice\n",
      "9801   505958.011694  5.449033e+06   1.0      101.0      1\n",
      "9802   505959.011696  5.449033e+06   1.0      101.0      1\n",
      "14701  505956.011690  5.449032e+06   1.0      101.0      1\n",
      "14702  505957.011692  5.449032e+06   1.0      101.0      1\n",
      "14703  505958.011694  5.449032e+06   1.0      101.0      1\n",
      "                   X             Y  Elevation  Slice\n",
      "9801   505958.011694  5.449033e+06      101.0      1\n",
      "9802   505959.011696  5.449033e+06      101.0      1\n",
      "14701  505956.011690  5.449032e+06      101.0      1\n",
      "14702  505957.011692  5.449032e+06      101.0      1\n",
      "14703  505958.011694  5.449032e+06      101.0      1\n"
     ]
    }
   ],
   "source": [
    "print(df.head())  # Print first few rows to verify\n",
    "\n",
    "# Select only required columns\n",
    "selected_columns = [\"X\", \"Y\", \"Elevation\", \"Slice\"]\n",
    "\n",
    "print(df[selected_columns].head())  # Shows first 5 rows\n"
   ]
  },
  {
   "cell_type": "code",
   "execution_count": 29,
   "id": "ba83c3c0-ea75-4fdb-aab6-d1f2a3ddd04b",
   "metadata": {},
   "outputs": [],
   "source": [
    "# Export to a .txt file (tab-separated)\n",
    "df[selected_columns].to_csv(\"D:\\\\MINE 590 - Nadja\\\\Project\\\\csv\\\\topo100m.txt\", sep=\"\\t\", index=False, header=True)"
   ]
  },
  {
   "cell_type": "code",
   "execution_count": 30,
   "id": "d61b60c3-ccd7-449c-9561-4c88bcfa4cf6",
   "metadata": {},
   "outputs": [],
   "source": [
    "output_path = \"D:\\\\MINE 590 - Nadja\\\\Project\\\\csv\\\\topo.dat\"\n",
    "\n",
    "# Export to ASCII Database format (.dat) for FEFLOW\n",
    "df[selected_columns].to_csv(output_path, sep=\"\\t\", index=False, header=True)"
   ]
  },
  {
   "cell_type": "code",
   "execution_count": 31,
   "id": "c3bc2849-fa83-4cfe-a542-6f3c18b7e8ce",
   "metadata": {},
   "outputs": [
    {
     "name": "stdout",
     "output_type": "stream",
     "text": [
      "Minimum Elevation: 100.0\n",
      "Maximum Elevation: 113.5487289428711\n"
     ]
    }
   ],
   "source": [
    "print(\"Minimum Elevation:\", df[\"Elevation\"].min())\n",
    "print(\"Maximum Elevation:\", df[\"Elevation\"].max())\n"
   ]
  }
 ],
 "metadata": {
  "kernelspec": {
   "display_name": "Python 3 (ipykernel)",
   "language": "python",
   "name": "python3"
  },
  "language_info": {
   "codemirror_mode": {
    "name": "ipython",
    "version": 3
   },
   "file_extension": ".py",
   "mimetype": "text/x-python",
   "name": "python",
   "nbconvert_exporter": "python",
   "pygments_lexer": "ipython3",
   "version": "3.11.11"
  }
 },
 "nbformat": 4,
 "nbformat_minor": 5
}
